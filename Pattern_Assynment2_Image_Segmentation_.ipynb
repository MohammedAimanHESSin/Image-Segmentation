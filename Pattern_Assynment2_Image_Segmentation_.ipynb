{
  "nbformat": 4,
  "nbformat_minor": 0,
  "metadata": {
    "colab": {
      "name": "Pattern_Assynment2_Image Segmentation .ipynb",
      "provenance": [],
      "authorship_tag": "ABX9TyOpZZG5jVh8E1orloO7F27Q",
      "include_colab_link": true
    },
    "kernelspec": {
      "name": "python3",
      "display_name": "Python 3"
    },
    "language_info": {
      "name": "python"
    }
  },
  "cells": [
    {
      "cell_type": "markdown",
      "metadata": {
        "id": "view-in-github",
        "colab_type": "text"
      },
      "source": [
        "<a href=\"https://colab.research.google.com/github/osamasherif22/Image-Segmentation/blob/master/Pattern_Assynment2_Image_Segmentation_.ipynb\" target=\"_parent\"><img src=\"https://colab.research.google.com/assets/colab-badge.svg\" alt=\"Open In Colab\"/></a>"
      ]
    },
    {
      "cell_type": "code",
      "metadata": {
        "id": "IS4SXXQZbgZw",
        "outputId": "83039531-6776-4508-ff8f-d5ebaf905e40",
        "colab": {
          "base_uri": "https://localhost:8080/"
        }
      },
      "source": [
        "# read the contour data set \n",
        "filepaths = [] # Contains the absolute paths of all the image files\n",
        "!git clone https://github.com/osamasherif22/Image-Segmentation\n"
      ],
      "execution_count": 4,
      "outputs": [
        {
          "output_type": "stream",
          "text": [
            "fatal: destination path 'Image-Segmentation' already exists and is not an empty directory.\n"
          ],
          "name": "stdout"
        }
      ]
    },
    {
      "cell_type": "code",
      "metadata": {
        "id": "QOqDThUw40VJ"
      },
      "source": [
        ""
      ],
      "execution_count": 4,
      "outputs": []
    }
  ]
}